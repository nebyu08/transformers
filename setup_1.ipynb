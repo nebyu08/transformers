{
 "cells": [
  {
   "cell_type": "markdown",
   "id": "2f64c862-4d7f-45b0-b04e-d63e270a0917",
   "metadata": {},
   "source": [
    "# this is for handling the dataset of the model"
   ]
  },
  {
   "cell_type": "code",
   "execution_count": 16,
   "id": "29a357a7-d69e-4cb1-8a0a-46f82df6f5ea",
   "metadata": {},
   "outputs": [],
   "source": [
    "import os\n",
    "import re"
   ]
  },
  {
   "cell_type": "code",
   "execution_count": 12,
   "id": "d737461a-7acc-4b91-a687-f07c843a5fef",
   "metadata": {},
   "outputs": [],
   "source": [
    "directory=\"data\"\n",
    "if not os.path.exists(directory):\n",
    "    os.makedirs(directory)\n",
    "\n",
    "file_path=os.path.join(directory,\"merged_file.txt\")\n",
    "\n",
    "if not os.path.exists(file_path):\n",
    "    with open(\"C:/Users/nebiy/OneDrive/Documents/personal_project_datasets/BattleCreekDec19_2019.txt\",\"r\") as file1,open(\"C:/Users/nebiy/OneDrive/Documents/personal_project_datasets/BemidjiSep18_2020.txt\",\"r\") as file2,open(\"C:/Users/nebiy/OneDrive/Documents/personal_project_datasets/CharlotteMar2_2020.txt\",\"r\") as file3:\n",
    "            content1=file1.read()\n",
    "            content2=file2.read()\n",
    "            content3=file3.read()\n",
    "    \n",
    "    #closing the files i opened for reading\n",
    "    file1.close()\n",
    "    file2.close()\n",
    "    file3.close()\n",
    "    with open(\"data/merged_file.txt\",\"w\") as merged_file:\n",
    "        #merge the files\n",
    "        merged_file.write(content1+content2+content3)\n",
    "else:\n",
    "    print(\"the file already exists\")"
   ]
  },
  {
   "cell_type": "code",
   "execution_count": 19,
   "id": "31d6dee1-8f81-4748-a6cc-9f377b1d79cd",
   "metadata": {},
   "outputs": [
    {
     "data": {
      "text/plain": [
       "'Thank you Thank you Thank you to Vice President Pence Hes a good guy Weve done a great job together '"
      ]
     },
     "execution_count": 19,
     "metadata": {},
     "output_type": "execute_result"
    }
   ],
   "source": [
    "#lets import the dataset\n",
    "with open(file_path,\"r\") as file:\n",
    "    all_text=file.read()\n",
    "    non_text=re.compile(r'[^a-zA-Z\\s]')\n",
    "    text=non_text.sub(\"\",all_text)\n",
    "    \n",
    "text[:100]"
   ]
  },
  {
   "cell_type": "code",
   "execution_count": null,
   "id": "f5aa25d3-dd8f-43f9-aa52-8687825b4eaf",
   "metadata": {},
   "outputs": [],
   "source": []
  }
 ],
 "metadata": {
  "kernelspec": {
   "display_name": "Python 3 (ipykernel)",
   "language": "python",
   "name": "python3"
  },
  "language_info": {
   "codemirror_mode": {
    "name": "ipython",
    "version": 3
   },
   "file_extension": ".py",
   "mimetype": "text/x-python",
   "name": "python",
   "nbconvert_exporter": "python",
   "pygments_lexer": "ipython3",
   "version": "3.8.18"
  }
 },
 "nbformat": 4,
 "nbformat_minor": 5
}
