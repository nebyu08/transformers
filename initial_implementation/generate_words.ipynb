{
 "cells": [
  {
   "cell_type": "code",
   "execution_count": 1,
   "id": "7a8d34ae-5fea-4f54-83e1-eaeb726b4e65",
   "metadata": {},
   "outputs": [],
   "source": [
    "%load_ext autoreload"
   ]
  },
  {
   "cell_type": "code",
   "execution_count": 2,
   "id": "76270885-4861-4acf-ba19-7a9ee15cf7e7",
   "metadata": {},
   "outputs": [],
   "source": [
    "%autoreload 2"
   ]
  },
  {
   "cell_type": "code",
   "execution_count": 3,
   "id": "3bebefca-c267-436b-93e6-120130dfafba",
   "metadata": {},
   "outputs": [],
   "source": [
    "from base import GPT\n",
    "from bpe import get_encoder\n",
    "from utils import CfgNode as CN"
   ]
  },
  {
   "cell_type": "markdown",
   "id": "f12d18dc-1858-4c0c-8379-5409ae3741df",
   "metadata": {},
   "source": [
    "# lets try encoding and BPE"
   ]
  },
  {
   "cell_type": "code",
   "execution_count": 4,
   "id": "8e2c134f-e3d8-4f75-9b7e-b15887249d7a",
   "metadata": {},
   "outputs": [],
   "source": [
    "encoder=get_encoder()"
   ]
  },
  {
   "cell_type": "code",
   "execution_count": 5,
   "id": "3f1a8c53-62be-41b1-89a2-31066cee5e86",
   "metadata": {},
   "outputs": [
    {
     "data": {
      "text/plain": [
       "<bpe.Encoder at 0x23e23de9e80>"
      ]
     },
     "execution_count": 5,
     "metadata": {},
     "output_type": "execute_result"
    }
   ],
   "source": [
    "encoder"
   ]
  },
  {
   "cell_type": "code",
   "execution_count": 6,
   "id": "9e1cf45f-7448-4148-b1aa-cdbddcb47151",
   "metadata": {},
   "outputs": [],
   "source": [
    "p=\"hello there my name is nebiyu and i like \""
   ]
  },
  {
   "cell_type": "code",
   "execution_count": 7,
   "id": "00b24c95-8fe7-4c34-877e-7626f381c57a",
   "metadata": {},
   "outputs": [
    {
     "name": "stdout",
     "output_type": "stream",
     "text": [
      "this is the enocded:[31373, 612, 616, 1438, 318, 45508, 7745, 84, 290, 1312, 588, 220]\n"
     ]
    }
   ],
   "source": [
    "#lets encode\n",
    "encoded=encoder.encode(p)\n",
    "print(f\"this is the enocded:{encoded}\")"
   ]
  },
  {
   "cell_type": "code",
   "execution_count": 8,
   "id": "ac7138f5-fd3c-475e-b3de-22905dea7c76",
   "metadata": {},
   "outputs": [
    {
     "name": "stdout",
     "output_type": "stream",
     "text": [
      "this is the decoded version:hello there my name is nebiyu and i like  \n"
     ]
    }
   ],
   "source": [
    "#lets decode\n",
    "decoded=encoder.decode(encoded)\n",
    "print(f\"this is the decoded version:{decoded} \")"
   ]
  },
  {
   "cell_type": "markdown",
   "id": "06955a48-3570-4a5a-8030-6a8db26b26a7",
   "metadata": {},
   "source": [
    "# lets try the model "
   ]
  },
  {
   "cell_type": "code",
   "execution_count": 9,
   "id": "92bca67a-a921-4565-95e5-5c53645f414b",
   "metadata": {},
   "outputs": [],
   "source": [
    "# config=CN()\n",
    "# config.block_size=32\n",
    "# config.vocab_size=3200\n",
    "# config.n_layer=12\n",
    "# config.num_heads=6\n",
    "# config.emb_size=768\n",
    "# config.resid_pdrop=0.1\n",
    "# config.attn_drop=0.1\n",
    "# config.embd_drop=0.1\n",
    "\n",
    "# config.model_type=\"gpt\""
   ]
  },
  {
   "cell_type": "code",
   "execution_count": 10,
   "id": "00d8aa9d-b75e-4c8a-9fdf-9d90225b1f89",
   "metadata": {},
   "outputs": [],
   "source": [
    "# lets assigne the hyper parameters\n",
    "config=GPT.get_default_config()"
   ]
  },
  {
   "cell_type": "code",
   "execution_count": 11,
   "id": "604f0eed-508b-4018-9e9c-5d9e6c97e18e",
   "metadata": {},
   "outputs": [
    {
     "name": "stdout",
     "output_type": "stream",
     "text": [
      "n_layer: 12\n",
      "emb_size: None\n",
      "vocab_size: None\n",
      "num_heads: None\n",
      "att_dropout: 0.1\n",
      "emb_drop: 0.1\n",
      "resid_dropout: 0.1\n",
      "bias: False\n",
      "num_mlp: None\n",
      "block_size: None\n",
      "model_type: gpt\n",
      "\n"
     ]
    }
   ],
   "source": [
    "print(config)"
   ]
  },
  {
   "cell_type": "code",
   "execution_count": 12,
   "id": "e34d94a9-7023-4fe5-89bc-e662ce489575",
   "metadata": {},
   "outputs": [],
   "source": [
    "config.block_size=512\n",
    "config.vocab_size=3200\n",
    "\n",
    "config.model_type=\"gpt-nano\""
   ]
  },
  {
   "cell_type": "code",
   "execution_count": 13,
   "id": "902f8b96-77e9-4b04-be36-8cd608b753c1",
   "metadata": {},
   "outputs": [
    {
     "name": "stdout",
     "output_type": "stream",
     "text": [
      "n_layer: 12\n",
      "emb_size: None\n",
      "vocab_size: 3200\n",
      "num_heads: None\n",
      "att_dropout: 0.1\n",
      "emb_drop: 0.1\n",
      "resid_dropout: 0.1\n",
      "bias: False\n",
      "num_mlp: None\n",
      "block_size: 512\n",
      "model_type: gpt-nano\n",
      "\n"
     ]
    }
   ],
   "source": [
    "print(config)"
   ]
  },
  {
   "cell_type": "code",
   "execution_count": 14,
   "id": "f0b89969-0895-4e38-bd1d-7b4514b7d131",
   "metadata": {},
   "outputs": [
    {
     "name": "stdout",
     "output_type": "stream",
     "text": [
      "None\n"
     ]
    }
   ],
   "source": [
    "print(config.emb_size)"
   ]
  },
  {
   "cell_type": "code",
   "execution_count": 15,
   "id": "97f12353-dcae-4698-9204-bddcf3d998fc",
   "metadata": {},
   "outputs": [
    {
     "name": "stdout",
     "output_type": "stream",
     "text": [
      "the number of parameters is 0.419312M\n"
     ]
    }
   ],
   "source": [
    "model=GPT(config)"
   ]
  },
  {
   "cell_type": "code",
   "execution_count": 16,
   "id": "15288604-22f2-4e85-af5a-0bb5601e6bec",
   "metadata": {},
   "outputs": [
    {
     "data": {
      "text/plain": [
       "48"
      ]
     },
     "execution_count": 16,
     "metadata": {},
     "output_type": "execute_result"
    }
   ],
   "source": [
    "config.emb_size"
   ]
  },
  {
   "cell_type": "code",
   "execution_count": 17,
   "id": "4e47d746-68ef-4220-b255-56cfe4a398c0",
   "metadata": {},
   "outputs": [
    {
     "name": "stdout",
     "output_type": "stream",
     "text": [
      "3\n"
     ]
    }
   ],
   "source": [
    "print(config.num_heads)"
   ]
  },
  {
   "cell_type": "code",
   "execution_count": 19,
   "id": "07c379be-1200-485f-810a-15556938e5c7",
   "metadata": {},
   "outputs": [],
   "source": [
    "text=\"hello there my name is nebiyu and i am \"\n",
    "input_token=encoder.encode(text)"
   ]
  },
  {
   "cell_type": "code",
   "execution_count": 21,
   "id": "ef8a080e-9e0d-4f27-bc27-ea880b1df5ff",
   "metadata": {},
   "outputs": [
    {
     "data": {
      "text/plain": [
       "[31373, 612, 616, 1438, 318, 45508, 7745, 84, 290, 1312, 716, 220]"
      ]
     },
     "execution_count": 21,
     "metadata": {},
     "output_type": "execute_result"
    }
   ],
   "source": [
    "input_token"
   ]
  },
  {
   "cell_type": "code",
   "execution_count": null,
   "id": "de32e4ce-b9f4-440a-aae4-6b95403febe2",
   "metadata": {},
   "outputs": [],
   "source": []
  }
 ],
 "metadata": {
  "kernelspec": {
   "display_name": "Python 3 (ipykernel)",
   "language": "python",
   "name": "python3"
  },
  "language_info": {
   "codemirror_mode": {
    "name": "ipython",
    "version": 3
   },
   "file_extension": ".py",
   "mimetype": "text/x-python",
   "name": "python",
   "nbconvert_exporter": "python",
   "pygments_lexer": "ipython3",
   "version": "3.8.18"
  }
 },
 "nbformat": 4,
 "nbformat_minor": 5
}
