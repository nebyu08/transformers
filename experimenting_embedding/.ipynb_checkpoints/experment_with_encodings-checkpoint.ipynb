{
 "cells": [
  {
   "cell_type": "code",
   "execution_count": 17,
   "id": "bcd0c0ad-70cd-4801-b2ac-38eb6b556d95",
   "metadata": {},
   "outputs": [
    {
     "name": "stdout",
     "output_type": "stream",
     "text": [
      "The autoreload extension is already loaded. To reload it, use:\n",
      "  %reload_ext autoreload\n"
     ]
    }
   ],
   "source": [
    "%load_ext autoreload\n",
    "%autoreload 2"
   ]
  },
  {
   "cell_type": "markdown",
   "id": "91422e73-d1c7-4394-b678-1fcf7c3792bc",
   "metadata": {},
   "source": [
    "# trying out the base encoding\n",
    "* that is based on Byte Pair Encoding"
   ]
  },
  {
   "cell_type": "code",
   "execution_count": 1,
   "id": "b577027b-4fb6-4f0a-b12a-9dd4727e53b5",
   "metadata": {},
   "outputs": [
    {
     "name": "stdout",
     "output_type": "stream",
     "text": [
      "the tokenizer values are: {(101, 114): 256, (101, 32): 257, (100, 32): 258, (116, 32): 259, (105, 110): 260, (115, 32): 261, (116, 104): 262, (97, 110): 263, (256, 32): 264, (44, 32): 265, (101, 110): 266, (101, 258): 267, (97, 114): 268, (111, 114): 269, (111, 110): 270, (260, 103): 271, (32, 83): 272, (111, 32): 273, (119, 105): 274, (121, 32): 275, (46, 91): 276, (114, 101): 277, (97, 108): 278, (111, 117): 279, (116, 273): 280, (271, 32): 281, (101, 115): 282, (97, 32): 283, (263, 258): 284, (274, 102): 285, (99, 104): 286, (101, 108): 287, (93, 32): 288, (115, 104): 289, (97, 261): 290, (105, 108): 291, (104, 264): 292, (263, 32): 293, (111, 102): 294, (97, 116): 295, (115, 105): 296, (285, 259): 297, (262, 257): 298, (97, 259): 299}\n"
     ]
    }
   ],
   "source": [
    "from base import BaseTokenizer\n",
    "\n",
    "with open(\"data/swifty.txt\",\"r\") as f:\n",
    "    swifty=f.read()\n",
    "    \n",
    "#print(swifty)\n",
    "tokenizer=BaseTokenizer() \n",
    "vocab_size=300\n",
    "tokenizer.train(swifty,vocabsize=vocab_size,verbose=False) #train the embed\n",
    "print(f\"the tokenizer values are: {tokenizer.merge}\")"
   ]
  },
  {
   "cell_type": "code",
   "execution_count": 27,
   "id": "fa92ba0c-ce45-4aee-87cd-7f2927f1e28e",
   "metadata": {},
   "outputs": [
    {
     "name": "stdout",
     "output_type": "stream",
     "text": [
      "[87, 257, 289, 111, 119, 32, 102, 269, 32, 298, 102, 105, 114, 115, 259, 116, 105, 109, 257, 262, 299, 108, 101, 268, 110, 281, 112, 111, 119, 256, 102, 117, 108, 32, 277, 112, 277, 115, 266, 116, 295, 105, 270, 261, 102, 114, 111, 109, 32, 115, 112, 101, 101, 286, 32, 97, 117, 100, 105, 273, 278, 270, 257, 102, 111, 108, 108, 111, 119, 267, 98, 275, 102, 260, 101, 45, 116, 117, 110, 281, 270, 32, 116, 114, 263, 115, 99, 114, 105, 98, 267, 115, 112, 101, 101, 286, 32, 99, 293, 279, 116, 112, 256, 102, 269, 109, 32, 298, 98, 282, 259, 115, 101, 109, 105, 45, 115, 117, 112, 256, 118, 105, 115, 267, 109, 101, 262, 111, 100, 261, 119, 104, 291, 257, 98, 101, 281, 99, 270, 99, 101, 112, 116, 117, 278, 108, 275, 296, 109, 112, 108, 256, 46, 32, 119, 97, 118, 50, 118, 101, 99, 32, 50, 46, 48, 32, 109, 97, 115, 107, 261, 298, 115, 112, 101, 101, 286, 32, 260, 112, 117, 259, 260, 32, 298, 108, 295, 266, 259, 115, 112, 97, 99, 257, 284, 115, 111, 108, 118, 101, 261, 283, 99, 270, 116, 114, 97, 115, 116, 105, 118, 257, 116, 97, 115, 107, 32, 100, 101, 102, 260, 267, 111, 118, 264, 283, 113, 117, 263, 116, 105, 122, 295, 105, 270, 32, 294, 32, 298, 108, 295, 266, 259, 277, 112, 277, 115, 266, 116, 295, 105, 270, 261, 119, 104, 105, 286, 32, 268, 257, 106, 111, 260, 116, 108, 275, 108, 101, 268, 110, 101, 100, 46, 32, 69, 120, 112, 256, 105, 109, 266, 116, 261, 117, 115, 281, 278, 108, 32, 108, 97, 98, 287, 267, 100, 295, 283, 294, 32, 76, 105, 98, 114, 105, 115, 112, 101, 101, 286, 32, 97, 286, 105, 101, 118, 257, 49, 46, 56, 47, 51, 46, 51, 32, 87, 69, 82, 32, 270, 32, 298, 99, 108, 101, 263, 47, 111, 262, 264, 116, 282, 259, 115, 101, 116, 115, 46, 32, 87, 104, 266, 32, 108, 111, 119, 256, 281, 298, 97, 109, 279, 110, 259, 294, 32, 108, 97, 98, 287, 267, 100, 295, 283, 280, 270, 257, 104, 279, 114, 265, 119, 97, 118, 50, 118, 101, 99, 32, 50, 46, 48, 32, 279, 116, 112, 256, 102, 269, 109, 261, 298, 112, 277, 118, 105, 279, 261, 115, 116, 295, 257, 294, 32, 298, 268, 259, 270, 32, 298, 49, 48, 48, 32, 104, 279, 114, 32, 115, 117, 98, 115, 101, 259, 119, 104, 291, 257, 117, 115, 281, 49, 48, 48, 32, 116, 105, 109, 101, 261, 108, 282, 261, 108, 97, 98, 287, 267, 100, 295, 97, 46, 32, 85, 115, 281, 106, 117, 115, 259, 116, 266, 32, 109, 260, 117, 116, 101, 261, 294, 32, 108, 97, 98, 287, 267, 100, 295, 283, 284, 112, 277, 45, 116, 114, 97, 260, 281, 270, 32, 53, 51, 107, 32, 104, 279, 114, 261, 294, 32, 117, 110, 108, 97, 98, 287, 267, 100, 295, 283, 115, 116, 291, 108, 32, 97, 286, 105, 101, 118, 101, 261, 52, 46, 56, 47, 56, 46, 50, 32, 87, 69, 82, 46, 32, 84, 104, 105, 261, 100, 101, 109, 270, 115, 116, 114, 295, 101, 261, 298, 102, 101, 97, 296, 98, 291, 105, 116, 275, 294, 32, 115, 112, 101, 101, 286, 32, 277, 99, 111, 103, 110, 105, 116, 105, 270, 32, 274, 262, 32, 108, 105, 109, 105, 116, 267, 97, 109, 279, 110, 116, 261, 294, 32, 108, 97, 98, 287, 267, 100, 295, 97, 46]\n"
     ]
    }
   ],
   "source": [
    "test_string=\"We show for the first time that learning powerful representations from speech audio alone followed by fine-tuning on transcribed speech can outperform the best semi-supervised methods while being conceptually simpler. wav2vec 2.0 masks the speech input in the latent space and solves a contrastive task defined over a quantization of the latent representations which are jointly learned. Experiments using all labeled data of Librispeech achieve 1.8/3.3 WER on the clean/other test sets. When lowering the amount of labeled data to one hour, wav2vec 2.0 outperforms the previous state of the art on the 100 hour subset while using 100 times less labeled data. Using just ten minutes of labeled data and pre-training on 53k hours of unlabeled data still achieves 4.8/8.2 WER. This demonstrates the feasibility of speech recognition with limited amounts of labeled data.\"\n",
    "test_encoded=tokenizer.encode(test_string)\n",
    "print(test_encoded)"
   ]
  },
  {
   "cell_type": "code",
   "execution_count": 29,
   "id": "dfc62abb-5a80-4cd3-ac99-b64ed9ec94a8",
   "metadata": {},
   "outputs": [
    {
     "name": "stdout",
     "output_type": "stream",
     "text": [
      "We show for the first time that learning powerful representations from speech audio alone followed by fine-tuning on transcribed speech can outperform the best semi-supervised methods while being conceptually simpler. wav2vec 2.0 masks the speech input in the latent space and solves a contrastive task defined over a quantization of the latent representations which are jointly learned. Experiments using all labeled data of Librispeech achieve 1.8/3.3 WER on the clean/other test sets. When lowering the amount of labeled data to one hour, wav2vec 2.0 outperforms the previous state of the art on the 100 hour subset while using 100 times less labeled data. Using just ten minutes of labeled data and pre-training on 53k hours of unlabeled data still achieves 4.8/8.2 WER. This demonstrates the feasibility of speech recognition with limited amounts of labeled data.\n"
     ]
    }
   ],
   "source": [
    "test_decoded=tokenizer.decode(test_encoded)\n",
    "print(test_decoded)"
   ]
  },
  {
   "cell_type": "markdown",
   "id": "f9d0ac5a-9823-4756-b568-c465d30f45aa",
   "metadata": {},
   "source": [
    "# trying out GPT-4 Styles encoding\n",
    "* this is actually for the gpt family mainly GPT-4 & GPT-2"
   ]
  },
  {
   "cell_type": "code",
   "execution_count": 33,
   "id": "f31a8016-1ec9-4312-b3dd-87707f765e21",
   "metadata": {},
   "outputs": [],
   "source": [
    "# from gpt4_regex import RegexTokenizer\n",
    "\n",
    "# vocab_size=312\n",
    "\n",
    "# gpt_4=RegexTokenizer() #initalze the tokenizer\n",
    "# gpt_4.train(swifty,vocab_size)"
   ]
  },
  {
   "cell_type": "code",
   "execution_count": null,
   "id": "5c3a2d67-d416-4c8f-a7fa-699a0f976a58",
   "metadata": {},
   "outputs": [],
   "source": []
  },
  {
   "cell_type": "code",
   "execution_count": null,
   "id": "409408f1-94ea-4873-a033-09f2523bae1c",
   "metadata": {},
   "outputs": [],
   "source": []
  }
 ],
 "metadata": {
  "kernelspec": {
   "display_name": "Python 3 (ipykernel)",
   "language": "python",
   "name": "python3"
  },
  "language_info": {
   "codemirror_mode": {
    "name": "ipython",
    "version": 3
   },
   "file_extension": ".py",
   "mimetype": "text/x-python",
   "name": "python",
   "nbconvert_exporter": "python",
   "pygments_lexer": "ipython3",
   "version": "3.8.18"
  }
 },
 "nbformat": 4,
 "nbformat_minor": 5
}
